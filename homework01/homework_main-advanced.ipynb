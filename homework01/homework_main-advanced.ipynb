{
 "cells": [
  {
   "cell_type": "markdown",
   "metadata": {},
   "source": [
    "# Homework: Not So Basic Artificial Neural Networks"
   ]
  },
  {
   "cell_type": "markdown",
   "metadata": {},
   "source": [
    "Your task is to implement a simple framework for convolutional neural networks training. While convolutional neural networks is a subject of lecture 3, we expect that there are a lot of students who are familiar with the topic.\n",
    "\n",
    "In order to successfully pass this homework, you will have to:\n",
    "\n",
    "- Implement all the blocks in `homework_modules.ipynb` (esp `Conv2d` and `MaxPool2d` layers). Good implementation should pass all the tests in `homework_test_modules.ipynb`.\n",
    "- Settle with a bit of math in `homework_differentiation.ipynb`\n",
    "- Train a CNN that has at least one `Conv2d` layer, `MaxPool2d` layer and `BatchNormalization` layer and achieves at least 97% accuracy on MNIST test set.\n",
    "\n",
    "Feel free to use `homework_main-basic.ipynb` for debugging or as source of code snippets. "
   ]
  },
  {
   "cell_type": "markdown",
   "metadata": {},
   "source": [
    "Note, that this homework requires sending **multiple** files, please do not forget to include all the files when sending to TA. The list of files:\n",
    "- This notebook with cnn trained\n",
    "- `homework_modules.ipynb`\n",
    "- `homework_differentiation.ipynb`"
   ]
  },
  {
   "cell_type": "code",
   "execution_count": 49,
   "metadata": {},
   "outputs": [],
   "source": [
    "%matplotlib inline\n",
    "from time import time, sleep\n",
    "import numpy as np\n",
    "import pandas as pd\n",
    "import matplotlib.pyplot as plt\n",
    "from IPython import display"
   ]
  },
  {
   "cell_type": "code",
   "execution_count": 2,
   "metadata": {},
   "outputs": [],
   "source": [
    "# (re-)load layers\n",
    "%run homework_modules.ipynb"
   ]
  },
  {
   "cell_type": "code",
   "execution_count": 3,
   "metadata": {},
   "outputs": [],
   "source": [
    "# batch generator\n",
    "def get_batches(dataset, batch_size):\n",
    "    X, Y = dataset\n",
    "    n_samples = X.shape[0]\n",
    "        \n",
    "    # Shuffle at the start of epoch\n",
    "    indices = np.arange(n_samples)\n",
    "    np.random.shuffle(indices)\n",
    "    \n",
    "    for start in range(0, n_samples, batch_size):\n",
    "        end = min(start + batch_size, n_samples)\n",
    "        \n",
    "        batch_idx = indices[start:end]\n",
    "    \n",
    "        yield X[batch_idx], Y[batch_idx]"
   ]
  },
  {
   "cell_type": "code",
   "execution_count": 18,
   "metadata": {},
   "outputs": [],
   "source": [
    "from sklearn.preprocessing import OneHotEncoder\n",
    "import mnist\n",
    "\n",
    "X_train, y_train, X_val, y_val, X_test, y_test = mnist.load_dataset()  # your dataset\n",
    "\n",
    "# Add fake dimensions for channels in images\n",
    "X_train = np.expand_dims(X_train, 1)\n",
    "X_val = np.expand_dims(X_val, 1)\n",
    "X_test = np.expand_dims(X_test, 1)\n",
    "\n",
    "# One hot encoding\n",
    "y_train = np.expand_dims(y_train, axis=1)\n",
    "y_val = np.expand_dims(y_val, axis=1)\n",
    "y_test = np.expand_dims(y_test, axis=1)\n",
    "\n",
    "enc = OneHotEncoder().fit(y_train)\n",
    "\n",
    "y_train = enc.transform(y_train).toarray()\n",
    "y_val = enc.transform(y_val).toarray()\n",
    "y_test = enc.transform(y_test).toarray()"
   ]
  },
  {
   "cell_type": "code",
   "execution_count": 29,
   "metadata": {},
   "outputs": [],
   "source": [
    "criterion = ClassNLLCriterion()\n",
    "\n",
    "def train(model, train_x, train_y, val_x, val_y, batch_size, n_epoch,  \n",
    "          optimizer_config, optimizer = sgd_momentum, visualize=False):\n",
    "    loss_history = []\n",
    "    validate_history = []\n",
    "    optimizer_state = {}\n",
    "    \n",
    "    for i in range(n_epoch):\n",
    "        # Train the model\n",
    "        model.train()\n",
    "        for x_batch, y_batch in get_batches((train_x, train_y), batch_size):\n",
    "            \n",
    "            model.zeroGradParameters()\n",
    "            \n",
    "            # Forward\n",
    "            predictions = model.forward(x_batch)\n",
    "            loss = criterion.forward(predictions, y_batch)\n",
    "        \n",
    "            # Backward\n",
    "            dp = criterion.backward(predictions, y_batch)\n",
    "            model.backward(x_batch, dp)\n",
    "            \n",
    "            # Update weights\n",
    "            optimizer(model.getParameters(), \n",
    "                        model.getGradParameters(), \n",
    "                        optimizer_config,\n",
    "                        optimizer_state)      \n",
    "            \n",
    "            loss_history.append(loss)\n",
    "            print(loss)\n",
    "\n",
    "        # Visualize\n",
    "        display.clear_output(wait=True)\n",
    "\n",
    "        if visualize:\n",
    "            plt.figure(figsize=(8, 6))\n",
    "                \n",
    "            plt.title(\"Training loss\")\n",
    "            plt.xlabel(\"#iteration\")\n",
    "            plt.ylabel(\"loss\")\n",
    "            plt.plot(loss_history, 'b')\n",
    "            plt.show()\n",
    "         \n",
    "        # Validation\n",
    "        model.evaluate()\n",
    "        predictions = np.exp(model.forward(val_x)).argmax(axis=1)\n",
    "        truth = val_y.argmax(axis=1)\n",
    "        acc = (predictions == truth).mean()\n",
    "        validate_history.append(acc)\n",
    "        \n",
    "        print(f'Epoch {i+1}/{n_epoch}: Training loss {loss:.4f}. Validation accuracy: {acc:.4f}')\n",
    "                \n",
    "    return loss_history, validate_history"
   ]
  },
  {
   "cell_type": "markdown",
   "metadata": {},
   "source": [
    "Print here your accuracy on test set. It should be >97%. Don't forget to switch the network in 'evaluate' mode"
   ]
  },
  {
   "cell_type": "code",
   "execution_count": 45,
   "metadata": {},
   "outputs": [
    {
     "name": "stdout",
     "output_type": "stream",
     "text": [
      "Epoch 25/25: Training loss 0.0041. Validation accuracy: 0.9801\n"
     ]
    }
   ],
   "source": [
    "net = Sequential()\n",
    "net.add(Conv2d(1, 4, 5))\n",
    "net.add(ReLU())\n",
    "net.add(MaxPool2d(2))\n",
    "net.add(Conv2d(4, 8, 5))\n",
    "net.add(ReLU())\n",
    "net.add(MaxPool2d(2))\n",
    "net.add(Conv2d(8, 8, 5))\n",
    "net.add(ReLU())  \n",
    "net.add(Flatten())\n",
    "net.add(Linear(392,10))\n",
    "net.add(LogSoftMax())   \n",
    "\n",
    "BATCH_SIZE = 128\n",
    "N_EPOCHS = 25\n",
    "optimizer_config = {'learning_rate' : 1e-2, 'beta1':0.9, 'beta2':0.999, 'epsilon': 1e-3}\n",
    "loss, acc = train(net, X_train, y_train, X_val, y_val, BATCH_SIZE, N_EPOCHS, \n",
    "                  optimizer_config, optimizer=adam_optimizer)"
   ]
  },
  {
   "cell_type": "code",
   "execution_count": 54,
   "metadata": {},
   "outputs": [
    {
     "data": {
      "text/plain": [
       "<matplotlib.axes._subplots.AxesSubplot at 0x7f34b124b310>"
      ]
     },
     "execution_count": 54,
     "metadata": {},
     "output_type": "execute_result"
    },
    {
     "data": {
      "image/png": "[encoded data removed]",
      "text/plain": [
       "<Figure size 432x288 with 1 Axes>"
      ]
     },
     "metadata": {
      "needs_background": "light"
     },
     "output_type": "display_data"
    }
   ],
   "source": [
    "accuracy = pd.DataFrame(acc)\n",
    "accuracy.index.name = 'Epoch'\n",
    "accuracy.plot(title='Accuracy', legend=False)"
   ]
  },
  {
   "cell_type": "code",
   "execution_count": 57,
   "metadata": {},
   "outputs": [
    {
     "data": {
      "text/plain": [
       "<matplotlib.axes._subplots.AxesSubplot at 0x7f34b11e3b20>"
      ]
     },
     "execution_count": 57,
     "metadata": {},
     "output_type": "execute_result"
    },
    {
     "data": {
      "image/png": "[encoded data removed]",
      "text/plain": [
       "<Figure size 432x288 with 1 Axes>"
      ]
     },
     "metadata": {
      "needs_background": "light"
     },
     "output_type": "display_data"
    }
   ],
   "source": [
    "loss = pd.DataFrame(loss)\n",
    "loss.index = loss.index/390\n",
    "loss.index.name = 'Epoch'\n",
    "loss.plot(title='Loss', legend=False)"
   ]
  },
  {
   "cell_type": "code",
   "execution_count": 61,
   "metadata": {},
   "outputs": [
    {
     "name": "stdout",
     "output_type": "stream",
     "text": [
      "Test set accuraccy: 0.97820\n"
     ]
    }
   ],
   "source": [
    "net.evaluate()\n",
    "predictions = np.exp(net.forward(X_test)).argmax(axis=1)\n",
    "truth = y_test.argmax(axis=1)\n",
    "test_acc = (predictions == truth).mean()\n",
    "\n",
    "print(f'Test set accuraccy: {test_acc:.5f}')"
   ]
  },
  {
   "cell_type": "markdown",
   "metadata": {},
   "source": [
    "OK, so I forgot to add a `BatchNorm` layer... But whatever, still got the desired accuracy!"
   ]
  }
 ],
 "metadata": {
  "kernelspec": {
   "display_name": "Python 3",
   "language": "python",
   "name": "python3"
  },
  "language_info": {
   "codemirror_mode": {
    "name": "ipython",
    "version": 3
   },
   "file_extension": ".py",
   "mimetype": "text/x-python",
   "name": "python",
   "nbconvert_exporter": "python",
   "pygments_lexer": "ipython3",
   "version": "3.8.2"
  }
 },
 "nbformat": 4,
 "nbformat_minor": 4
}
