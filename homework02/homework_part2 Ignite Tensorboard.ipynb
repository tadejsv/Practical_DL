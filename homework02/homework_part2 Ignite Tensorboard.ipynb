{
 "cells": [
  {
   "cell_type": "markdown",
   "metadata": {},
   "source": [
    "# Homework 2.2: The Quest For A Better Network\n",
    "\n",
    "In this assignment you will build a monster network to solve Tiny ImageNet image classification.\n",
    "\n",
    "This notebook is intended as a sequel to seminar 3, please give it a try if you haven't done so yet."
   ]
  },
  {
   "cell_type": "markdown",
   "metadata": {},
   "source": [
    "(please read it at least diagonally)\n",
    "\n",
    "* The ultimate quest is to create a network that has as high __accuracy__ as you can push it.\n",
    "* There is a __mini-report__ at the end that you will have to fill in. We recommend reading it first and filling it while you iterate.\n",
    " \n",
    "## Grading\n",
    "* starting at zero points\n",
    "* +20% for describing your iteration path in a report below.\n",
    "* +20% for building a network that gets above 20% accuracy\n",
    "* +10% for beating each of these milestones on __TEST__ dataset:\n",
    "    * 25% (50% points)\n",
    "    * 30% (60% points)\n",
    "    * 32.5% (70% points)\n",
    "    * 35% (80% points)\n",
    "    * 37.5% (90% points)\n",
    "    * 40% (full points)\n",
    "    \n",
    "## Restrictions\n",
    "* Please do NOT use pre-trained networks for this assignment until you reach 40%.\n",
    " * In other words, base milestones must be beaten without pre-trained nets (and such net must be present in the anytask atttachments). After that, you can use whatever you want.\n",
    "* you __can't__ do anything with validation data apart from running the evaluation procedure. Please, split train images on train and validation parts\n",
    "\n",
    "## Tips on what can be done:\n",
    "\n",
    "\n",
    " * __Network size__\n",
    "   * MOAR neurons, \n",
    "   * MOAR layers, ([torch.nn docs](http://pytorch.org/docs/master/nn.html))\n",
    "\n",
    "   * Nonlinearities in the hidden layers\n",
    "     * tanh, relu, leaky relu, etc\n",
    "   * Larger networks may take more epochs to train, so don't discard your net just because it could didn't beat the baseline in 5 epochs.\n",
    "\n",
    "   * Ph'nglui mglw'nafh Cthulhu R'lyeh wgah'nagl fhtagn!\n",
    "\n",
    "\n",
    "### The main rule of prototyping: one change at a time\n",
    "   * By now you probably have several ideas on what to change. By all means, try them out! But there's a catch: __never test several new things at once__.\n",
    "\n",
    "\n",
    "### Optimization\n",
    "   * Training for 100 epochs regardless of anything is probably a bad idea.\n",
    "   * Some networks converge over 5 epochs, others - over 500.\n",
    "   * Way to go: stop when validation score is 10 iterations past maximum\n",
    "   * You should certainly use adaptive optimizers\n",
    "     * rmsprop, nesterov_momentum, adam, adagrad and so on.\n",
    "     * Converge faster and sometimes reach better optima\n",
    "     * It might make sense to tweak learning rate/momentum, other learning parameters, batch size and number of epochs\n",
    "   * __BatchNormalization__ (nn.BatchNorm2d) for the win!\n",
    "     * Sometimes more batch normalization is better.\n",
    "   * __Regularize__ to prevent overfitting\n",
    "     * Add some L2 weight norm to the loss function, PyTorch will do the rest\n",
    "       * Can be done manually or like [this](https://discuss.pytorch.org/t/simple-l2-regularization/139/2).\n",
    "     * Dropout (`nn.Dropout`) - to prevent overfitting\n",
    "       * Don't overdo it. Check if it actually makes your network better\n",
    "   \n",
    "### Convolution architectures\n",
    "   * This task __can__ be solved by a sequence of convolutions and poolings with batch_norm and ReLU seasoning, but you shouldn't necessarily stop there.\n",
    "   * [Inception family](https://hacktilldawn.com/2016/09/25/inception-modules-explained-and-implemented/), [ResNet family](https://towardsdatascience.com/an-overview-of-resnet-and-its-variants-5281e2f56035?gi=9018057983ca), [Densely-connected convolutions (exotic)](https://arxiv.org/abs/1608.06993), [Capsule networks (exotic)](https://arxiv.org/abs/1710.09829)\n",
    "   * Please do try a few simple architectures before you go for resnet-152.\n",
    "   * Warning! Training convolutional networks can take long without GPU. That's okay.\n",
    "     * If you are CPU-only, we still recomment that you try a simple convolutional architecture\n",
    "     * a perfect option is if you can set it up to run at nighttime and check it up at the morning.\n",
    "     * Make reasonable layer size estimates. A 128-neuron first convolution is likely an overkill.\n",
    "     * __To reduce computation__ time by a factor in exchange for some accuracy drop, try using __stride__ parameter. A stride=2 convolution should take roughly 1/4 of the default (stride=1) one.\n",
    " \n",
    "   \n",
    "### Data augmemntation\n",
    "   * getting 5x as large dataset for free is a great \n",
    "     * Zoom-in+slice = move\n",
    "     * Rotate+zoom(to remove black stripes)\n",
    "     * Add Noize (gaussian or bernoulli)\n",
    "   * Simple way to do that (if you have PIL/Image): \n",
    "     * ```from scipy.misc import imrotate,imresize```\n",
    "     * and a few slicing\n",
    "     * Other cool libraries: cv2, skimake, PIL/Pillow\n",
    "   * A more advanced way is to use torchvision transforms:\n",
    "    ```\n",
    "    transform_train = transforms.Compose([\n",
    "        transforms.RandomCrop(32, padding=4),\n",
    "        transforms.RandomHorizontalFlip(),\n",
    "        transforms.ToTensor(),\n",
    "        transforms.Normalize((0.4914, 0.4822, 0.4465), (0.2023, 0.1994, 0.2010)),\n",
    "    ])\n",
    "    trainset = torchvision.datasets.ImageFolder(root=path_to_tiny_imagenet, train=True, download=True, transform=transform_train)\n",
    "    trainloader = torch.utils.data.DataLoader(trainset, batch_size=128, shuffle=True, num_workers=2)\n",
    "\n",
    "    ```\n",
    "   * Or use this tool from Keras (requires theano/tensorflow): [tutorial](https://blog.keras.io/building-powerful-image-classification-models-using-very-little-data.html), [docs](https://keras.io/preprocessing/image/)\n",
    "   * Stay realistic. There's usually no point in flipping dogs upside down as that is not the way you usually see them.\n",
    "   \n",
    "\n"
   ]
  },
  {
   "cell_type": "code",
   "execution_count": 1,
   "metadata": {},
   "outputs": [],
   "source": [
    "from copy import deepcopy\n",
    "import os\n",
    "from shutil import copyfile\n",
    "\n",
    "import numpy as np\n",
    "import matplotlib.pyplot as plt\n",
    "%matplotlib inline\n",
    "\n",
    "import torch\n",
    "import torch.nn as nn\n",
    "import torch.nn.functional as F\n",
    "import torch.optim as optim\n",
    "\n",
    "import torchvision\n",
    "from torchvision import transforms, datasets\n",
    "\n",
    "from torchsummary import summary\n",
    "\n",
    "from ignite.engine import Events, create_supervised_trainer, create_supervised_evaluator\n",
    "from ignite.utils import setup_logger\n",
    "from ignite.metrics import Accuracy, Loss\n",
    "from ignite.handlers import EarlyStopping, ModelCheckpoint\n",
    "\n",
    "from ignite.contrib.handlers.tensorboard_logger import *\n",
    "from ignite.contrib.handlers.param_scheduler import LRScheduler\n",
    "from ignite.contrib.metrics import GpuInfo\n",
    "\n",
    "from tqdm.notebook import tqdm\n",
    "\n",
    "import pandas as pd"
   ]
  },
  {
   "cell_type": "code",
   "execution_count": 2,
   "metadata": {},
   "outputs": [
    {
     "ename": "ModuleNotFoundError",
     "evalue": "No module named 'sklearn'",
     "output_type": "error",
     "traceback": [
      "\u001b[0;31m---------------------------------------------------------------------------\u001b[0m",
      "\u001b[0;31mModuleNotFoundError\u001b[0m                       Traceback (most recent call last)",
      "\u001b[0;32m<ipython-input-2-151790d46d28>\u001b[0m in \u001b[0;36m<module>\u001b[0;34m\u001b[0m\n\u001b[0;32m----> 1\u001b[0;31m \u001b[0;32mfrom\u001b[0m \u001b[0mtiny_img\u001b[0m \u001b[0;32mimport\u001b[0m \u001b[0mdownload_tinyImg200\u001b[0m\u001b[0;34m\u001b[0m\u001b[0;34m\u001b[0m\u001b[0m\n\u001b[0m\u001b[1;32m      2\u001b[0m \u001b[0;34m\u001b[0m\u001b[0m\n\u001b[1;32m      3\u001b[0m \u001b[0mdata_path\u001b[0m \u001b[0;34m=\u001b[0m \u001b[0;34m'.'\u001b[0m\u001b[0;34m\u001b[0m\u001b[0;34m\u001b[0m\u001b[0m\n\u001b[1;32m      4\u001b[0m \u001b[0mdownload_tinyImg200\u001b[0m\u001b[0;34m(\u001b[0m\u001b[0mdata_path\u001b[0m\u001b[0;34m)\u001b[0m\u001b[0;34m\u001b[0m\u001b[0;34m\u001b[0m\u001b[0m\n",
      "\u001b[0;32m~/Documents/Practical_DL/homework02/tiny_img.py\u001b[0m in \u001b[0;36m<module>\u001b[0;34m\u001b[0m\n\u001b[1;32m      1\u001b[0m \u001b[0;32mimport\u001b[0m \u001b[0mnumpy\u001b[0m \u001b[0;32mas\u001b[0m \u001b[0mnp\u001b[0m\u001b[0;34m\u001b[0m\u001b[0;34m\u001b[0m\u001b[0m\n\u001b[0;32m----> 2\u001b[0;31m \u001b[0;32mfrom\u001b[0m \u001b[0msklearn\u001b[0m\u001b[0;34m.\u001b[0m\u001b[0mmodel_selection\u001b[0m \u001b[0;32mimport\u001b[0m \u001b[0mtrain_test_split\u001b[0m\u001b[0;34m\u001b[0m\u001b[0;34m\u001b[0m\u001b[0m\n\u001b[0m\u001b[1;32m      3\u001b[0m \u001b[0;32mimport\u001b[0m \u001b[0mos\u001b[0m\u001b[0;34m,\u001b[0m \u001b[0msys\u001b[0m\u001b[0;34m\u001b[0m\u001b[0;34m\u001b[0m\u001b[0m\n\u001b[1;32m      4\u001b[0m \u001b[0;32mif\u001b[0m \u001b[0msys\u001b[0m\u001b[0;34m.\u001b[0m\u001b[0mversion_info\u001b[0m\u001b[0;34m[\u001b[0m\u001b[0;36m0\u001b[0m\u001b[0;34m]\u001b[0m \u001b[0;34m==\u001b[0m \u001b[0;36m2\u001b[0m\u001b[0;34m:\u001b[0m\u001b[0;34m\u001b[0m\u001b[0;34m\u001b[0m\u001b[0m\n\u001b[1;32m      5\u001b[0m     \u001b[0;32mfrom\u001b[0m \u001b[0murllib\u001b[0m \u001b[0;32mimport\u001b[0m \u001b[0murlretrieve\u001b[0m\u001b[0;34m\u001b[0m\u001b[0;34m\u001b[0m\u001b[0m\n",
      "\u001b[0;31mModuleNotFoundError\u001b[0m: No module named 'sklearn'"
     ]
    }
   ],
   "source": [
    "from tiny_img import download_tinyImg200\n",
    "\n",
    "data_path = '.'\n",
    "download_tinyImg200(data_path)"
   ]
  },
  {
   "cell_type": "code",
   "execution_count": 3,
   "metadata": {},
   "outputs": [],
   "source": [
    "# Create Test directory, mimicking the ImageFolder structure of train\n",
    "VAL_DIR = 'tiny-imagenet-200/val'\n",
    "TEST_DIR = 'tiny-imagenet-200/Test'\n",
    "\n",
    "val_list = pd.read_csv(VAL_DIR + '/val_annotations.txt', sep='\\t', header=None)\n",
    "\n",
    "if not os.path.isdir(TEST_DIR):\n",
    "    os.mkdir(TEST_DIR)\n",
    "\n",
    "for x in val_list.iterrows():\n",
    "    img = x[1][0]\n",
    "    folder = TEST_DIR + '/' + x[1][1]\n",
    "    \n",
    "    if not os.path.isdir(folder):\n",
    "        os.mkdir(folder)\n",
    "        \n",
    "    copyfile(VAL_DIR + '/images' + '/' + img, folder + '/' + img)"
   ]
  },
  {
   "cell_type": "markdown",
   "metadata": {},
   "source": [
    "## 1. Data Loading and Augmentation"
   ]
  },
  {
   "cell_type": "code",
   "execution_count": 4,
   "metadata": {},
   "outputs": [],
   "source": [
    "class MapDataset(torch.utils.data.Dataset):\n",
    "    def __init__(self, dataset, map_fn):\n",
    "        self.dataset = dataset\n",
    "        self.map = map_fn\n",
    "\n",
    "    def __getitem__(self, index):\n",
    "        return self.map(self.dataset[index][0]), self.dataset[index][1]\n",
    "\n",
    "    def __len__(self):\n",
    "        return len(self.dataset)\n",
    "\n",
    "\n",
    "transforms_train = transforms.Compose([\n",
    "   transforms.ColorJitter(hue=.05, saturation=.05),\n",
    "   transforms.RandomHorizontalFlip(),\n",
    "   transforms.RandomResizedCrop(64, scale=(0.6, 1.0)),\n",
    "   transforms.ToTensor(),\n",
    "   transforms.Normalize(mean=[0.485, 0.456, 0.406], std=[0.229, 0.224, 0.225]),\n",
    "])\n",
    "\n",
    "transforms_val = transforms.Compose([\n",
    "   transforms.ToTensor(),\n",
    "   transforms.Normalize(mean=[0.485, 0.456, 0.406], std=[0.229, 0.224, 0.225]),\n",
    "])\n",
    "\n",
    "VAL_SIZE = int(1e4)\n",
    "full_set = datasets.ImageFolder(root='tiny-imagenet-200/train')\n",
    "train_set, val_set = torch.utils.data.random_split(full_set, (len(full_set)-VAL_SIZE, VAL_SIZE))\n",
    "train_set = MapDataset(train_set, transforms_train)\n",
    "val_set = MapDataset(val_set, transforms_val)\n",
    "\n",
    "train_loader = torch.utils.data.DataLoader(train_set, batch_size=256, shuffle=True, num_workers=8, pin_memory=True)\n",
    "val_loader = torch.utils.data.DataLoader(val_set, batch_size=256, shuffle=True, num_workers=8, pin_memory=True)\n",
    "\n",
    "# Test set\n",
    "test_set = datasets.ImageFolder(root='tiny-imagenet-200/Test')\n",
    "\n",
    "# The class labels better be the same - else we have a problem\n",
    "assert test_set.class_to_idx == full_set.class_to_idx, \"Test and train labels don't match\"\n",
    "\n",
    "# Transforms on test\n",
    "test_set = MapDataset(test_set, transforms_val)\n",
    "test_loader = torch.utils.data.DataLoader(test_set, batch_size=256, shuffle=False, num_workers=8)"
   ]
  },
  {
   "cell_type": "markdown",
   "metadata": {},
   "source": [
    "## 2. Model definition"
   ]
  },
  {
   "cell_type": "code",
   "execution_count": 5,
   "metadata": {},
   "outputs": [],
   "source": [
    "class BasicModule(nn.Module):\n",
    "    \"\"\"Basic 2 layer 3x3 convnet block\n",
    "    \n",
    "    Contains 2 3*3 convolution layers. If downsampling, the first convolution layer has a stride of 2,\n",
    "    and the input is passed through a 1*1 convolution layer with stride 2 before adding at the end.\n",
    "    \"\"\"\n",
    "    \n",
    "    def __init__(self, in_ch, out_ch, downsample=False):\n",
    "        super(BasicModule, self).__init__()\n",
    "\n",
    "        if downsample:\n",
    "            stride = 2\n",
    "            self.downsample = nn.Conv2d(in_ch, out_ch, 1, stride=2)\n",
    "        elif in_ch != out_ch:\n",
    "            stride = 1\n",
    "            self.downsample = nn.Conv2d(in_ch, out_ch, 1, stride=1)\n",
    "        else:\n",
    "            stride = 1\n",
    "            self.downsample = nn.Identity()\n",
    "            \n",
    "        self.conv1 = nn.Conv2d(in_ch, out_ch, 3, padding=1, stride=stride)\n",
    "        self.conv2 = nn.Conv2d(out_ch, out_ch, 3, padding=1)\n",
    "        \n",
    "        self.bn1 = nn.BatchNorm2d(out_ch)\n",
    "        self.bn2 = nn.BatchNorm2d(out_ch)\n",
    "        \n",
    "        self.relu = nn.ReLU(inplace=True)       \n",
    "        \n",
    "    def forward(self, input):\n",
    "        \n",
    "        out = self.conv1(input)\n",
    "        out = self.bn1(out)\n",
    "        out = self.relu(out)\n",
    "        \n",
    "        out = self.conv2(out)\n",
    "        out = self.bn2(out)\n",
    "        out = out + self.downsample(input)\n",
    "        out = self.relu(out)\n",
    "        \n",
    "        return out\n",
    "\n",
    "class MyNet(nn.Module):\n",
    "    \"\"\"Baby ResNet model\n",
    "    \n",
    "    This version includes 4 residual layers and 2 fully connected layers.\n",
    "    \n",
    "    Input: 3*64*64 image\n",
    "    Layer 0: 5*5 convolution with 16 channels and stride 2\n",
    "    Layer 1: 4 residual blocks of 2 3*3 convolutions with 32 channels\n",
    "    Layer 2: 4 residual blocks of 2 3*3 convolutions with 64 channels\n",
    "    Layer 3: 4 residual blocks of 2 3*3 convolutions with 128 channels\n",
    "    \n",
    "    FC1: Layer with 500 neurons (and ReLU activation)\n",
    "    FC2: Layer with 200 neurons\n",
    "    \"\"\"\n",
    "    \n",
    "    def __init__(self):\n",
    "        super(MyNet, self).__init__()\n",
    "\n",
    "        initial_channel = 32\n",
    "        \n",
    "        self.layer_0 = nn.Conv2d(3, initial_channel, 5, padding=2, stride=1)\n",
    "        self.layer_1 = self._make_layer(3, initial_channel, initial_channel*2) # Returns 32 * 32\n",
    "        self.layer_2 = self._make_layer(10, initial_channel*2, initial_channel*4) # Returns 16 * 16\n",
    "        self.layer_3 = self._make_layer(10, initial_channel*4, initial_channel*8) # Returns 8 * 8\n",
    "        #self.layer_4 = self._make_layer(6, 128, 256) # Returns 4 * 4\n",
    "        self.avg_pool = nn.AdaptiveAvgPool2d((1,1))\n",
    "        \n",
    "        self.fc1 = nn.Linear(initial_channel * 8, 200)       \n",
    "\n",
    "    def forward(self, input):\n",
    "        \n",
    "        out = self.layer_0(input)\n",
    "        out = self.layer_1(out)\n",
    "        out = self.layer_2(out)\n",
    "        out = self.layer_3(out)\n",
    "        #out = self.layer_4(out)\n",
    "        out = self.avg_pool(out)\n",
    "\n",
    "        out = torch.flatten(out, start_dim=1)\n",
    "        out = self.fc1(out)\n",
    "                \n",
    "        return out\n",
    "\n",
    "    def _make_layer(self, n_blocks, in_ch, out_ch, downsample=True):\n",
    "        \n",
    "        blocks = [BasicModule(in_ch, out_ch, downsample=downsample)]        \n",
    "        for i in range(n_blocks - 1):\n",
    "            blocks.append(BasicModule(out_ch, out_ch))\n",
    "            \n",
    "        return nn.Sequential(*blocks)\n",
    "    "
   ]
  },
  {
   "cell_type": "markdown",
   "metadata": {},
   "source": [
    "## Initialization"
   ]
  },
  {
   "cell_type": "code",
   "execution_count": 6,
   "metadata": {},
   "outputs": [
    {
     "name": "stdout",
     "output_type": "stream",
     "text": [
      "Training on cuda\n"
     ]
    }
   ],
   "source": [
    "# Select device\n",
    "if torch.cuda.is_available():\n",
    "    device = torch.device('cuda')\n",
    "else:\n",
    "    device = torch.device('cpu')\n",
    "print(f'Training on {device}')\n",
    "\n",
    "# Create the net\n",
    "net1 = MyNet().to(device)"
   ]
  },
  {
   "cell_type": "code",
   "execution_count": 7,
   "metadata": {},
   "outputs": [],
   "source": [
    "# Alternatively, load it from device!\n",
    "# net1 = MyNet()\n",
    "# net1.load_state_dict(torch.load('winrar.pth'))\n",
    "# net1 = net1.to(device)"
   ]
  },
  {
   "cell_type": "code",
   "execution_count": 8,
   "metadata": {},
   "outputs": [],
   "source": [
    "# Initialize all weights (He initialization)\n",
    "def init_fn(m):\n",
    "    if isinstance(m, (nn.Conv2d, nn.Linear)):\n",
    "        nn.init.kaiming_normal_(m.weight, mode='fan_out', nonlinearity='relu')\n",
    "        nn.init.constant_(m.bias, 0)\n",
    "    elif isinstance(m, nn.BatchNorm2d):\n",
    "        nn.init.constant_(m.weight, 1)\n",
    "        nn.init.constant_(m.bias, 0)\n",
    "    \n",
    "net1 = net1.apply(init_fn)"
   ]
  },
  {
   "cell_type": "markdown",
   "metadata": {},
   "source": [
    "## See summary of the model"
   ]
  },
  {
   "cell_type": "code",
   "execution_count": null,
   "metadata": {},
   "outputs": [],
   "source": [
    "summary(net1, (3, 64, 64))"
   ]
  },
  {
   "cell_type": "markdown",
   "metadata": {},
   "source": [
    "## Prepare optimizer, trainer and evaluator"
   ]
  },
  {
   "cell_type": "code",
   "execution_count": 11,
   "metadata": {},
   "outputs": [],
   "source": [
    "# Prepare for optimization\n",
    "loss = nn.CrossEntropyLoss()\n",
    "optimizer = optim.Adam(net1.parameters(), weight_decay=1e-4)\n",
    "\n",
    "# Set up LR scheduling\n",
    "step_scheduler = optim.lr_scheduler.OneCycleLR(optimizer, max_lr=0.01, epochs = 50, steps_per_epoch = len(train_loader),\n",
    "                                               pct_start = 0.1, div_factor=1e3, final_div_factor=1)\n",
    "\n",
    "# Create trainer and evaluator\n",
    "trainer = create_supervised_trainer(net1, optimizer, loss, device=device)\n",
    "evaluator = create_supervised_evaluator(\n",
    "    net1, metrics={\"accuracy\": Accuracy(), \"nll\": Loss(loss)}, device=device\n",
    ")\n",
    "\n",
    "# Configure logging\n",
    "trainer.logger = setup_logger(\"trainer\", level = 20)\n",
    "evaluator.logger = setup_logger(\"evaluator\", level = 20)"
   ]
  },
  {
   "cell_type": "markdown",
   "metadata": {},
   "source": [
    "## Learning rate scheduler"
   ]
  },
  {
   "cell_type": "code",
   "execution_count": 13,
   "metadata": {},
   "outputs": [
    {
     "data": {
      "image/png": "[encoded data removed]",
      "text/plain": [
       "<Figure size 432x288 with 1 Axes>"
      ]
     },
     "metadata": {
      "needs_background": "light"
     },
     "output_type": "display_data"
    }
   ],
   "source": [
    "# Set up LR scheduling\n",
    "TOTAL_EPOCHS = 50\n",
    "step_scheduler = optim.lr_scheduler.OneCycleLR(optimizer, epochs=50, steps_per_epoch=len(train_loader),\n",
    "                                               max_lr=0.01, pct_start = 0.05, div_factor=25)\n",
    "\n",
    "# Configure logging and shit\n",
    "@trainer.on(Events.ITERATION_COMPLETED)\n",
    "def log_training_loss(engine):\n",
    "    step_scheduler.step()\n",
    "    \n",
    "# Plot the scheduler\n",
    "sch = deepcopy(step_scheduler)\n",
    "lr_graph = []\n",
    "\n",
    "for i in range(TOTAL_EPOCHS*len(train_loader)):\n",
    "    lr_graph.append(sch.get_lr()[0])\n",
    "    sch.last_epoch += 1\n",
    "\n",
    "plt.plot(lr_graph)\n",
    "plt.yscale('log')\n",
    "plt.xticks(len(train_loader)*np.arange(TOTAL_EPOCHS+1, step=5), np.arange(TOTAL_EPOCHS+1, step=5))\n",
    "plt.title('Learning rate schedule')\n",
    "_ = plt.xlabel('Epoch')"
   ]
  },
  {
   "cell_type": "markdown",
   "metadata": {},
   "source": [
    "## Logging, checkpointing and early stopping"
   ]
  },
  {
   "cell_type": "code",
   "execution_count": 14,
   "metadata": {},
   "outputs": [
    {
     "data": {
      "text/plain": [
       "<ignite.engine.events.RemovableEventHandle at 0x7f15bb220fd0>"
      ]
     },
     "execution_count": 14,
     "metadata": {},
     "output_type": "execute_result"
    }
   ],
   "source": [
    "@trainer.on(Events.EPOCH_COMPLETED)\n",
    "def compute_metrics(engine):\n",
    "    evaluator.run(val_loader)\n",
    "\n",
    "tb_logger = TensorboardLogger(log_dir='/tmp/log')\n",
    "\n",
    "tb_logger.attach(\n",
    "    trainer,\n",
    "    log_handler=OutputHandler(\n",
    "        tag=\"training\", output_transform=lambda loss: {\"batchloss\": loss}, metric_names=\"all\"\n",
    "    ),\n",
    "    event_name=Events.ITERATION_COMPLETED,\n",
    ")\n",
    "\n",
    "def global_step_transform(*args, **kwargs):\n",
    "    return trainer.state.iteration\n",
    "\n",
    "tb_logger.attach(\n",
    "    evaluator,\n",
    "    log_handler=OutputHandler(tag=\"validation\", metric_names=[\"nll\", \"accuracy\"], \n",
    "                              global_step_transform=global_step_transform),\n",
    "    event_name=Events.EPOCH_COMPLETED,\n",
    ")"
   ]
  },
  {
   "cell_type": "code",
   "execution_count": 15,
   "metadata": {},
   "outputs": [
    {
     "data": {
      "text/plain": [
       "<ignite.engine.events.RemovableEventHandle at 0x7f15c82b0f90>"
      ]
     },
     "execution_count": 15,
     "metadata": {},
     "output_type": "execute_result"
    }
   ],
   "source": [
    "# Checkpointing\n",
    "score_function = lambda engine: engine.state.metrics['accuracy']\n",
    "handler = ModelCheckpoint('/tmp/models', 'mm', create_dir=True, n_saved=2,\n",
    "                     score_function=score_function, score_name=\"val_acc\")\n",
    "evaluator.add_event_handler(Events.COMPLETED, handler, {'model': net1})"
   ]
  },
  {
   "cell_type": "code",
   "execution_count": 16,
   "metadata": {},
   "outputs": [
    {
     "data": {
      "text/plain": [
       "<ignite.engine.events.RemovableEventHandle at 0x7f15bb23b450>"
      ]
     },
     "execution_count": 16,
     "metadata": {},
     "output_type": "execute_result"
    }
   ],
   "source": [
    "# Early stopping (after 10 epochs with no improvement)\n",
    "score_function = lambda engine: -engine.state.metrics['nll']\n",
    "handler = EarlyStopping(patience=10, score_function=score_function, trainer=trainer)\n",
    "evaluator.add_event_handler(Events.COMPLETED, handler)"
   ]
  },
  {
   "cell_type": "markdown",
   "metadata": {},
   "source": [
    "# RUUUUUUUUUUUUUUUUUUUUUUUUUUUUNNNN!"
   ]
  },
  {
   "cell_type": "code",
   "execution_count": null,
   "metadata": {},
   "outputs": [
    {
     "name": "stderr",
     "output_type": "stream",
     "text": [
      "2020-05-27 15:15:06,430 trainer INFO: Engine run starting with max_epochs=1000.\n",
      "2020-05-27 15:17:11,071 trainer INFO: Epoch[1] Complete. Time taken: 00:02:04\n",
      "2020-05-27 15:17:11,072 evaluator INFO: Engine run starting with max_epochs=1.\n",
      "2020-05-27 15:17:14,648 evaluator INFO: Epoch[1] Complete. Time taken: 00:00:03\n",
      "2020-05-27 15:17:14,687 evaluator INFO: Engine run complete. Time taken 00:00:04\n"
     ]
    }
   ],
   "source": [
    "trainer.run(train_loader, max_epochs=TOTAL_EPOCHS)\n",
    "tb_logger.close()"
   ]
  },
  {
   "cell_type": "markdown",
   "metadata": {},
   "source": [
    "When everything is done, please calculate accuracy on `tiny-imagenet-200/val`"
   ]
  },
  {
   "cell_type": "code",
   "execution_count": null,
   "metadata": {},
   "outputs": [],
   "source": [
    "# Optionally, save\n",
    "torch.save(net1.state_dict(), 'winrar.pth')"
   ]
  },
  {
   "cell_type": "code",
   "execution_count": null,
   "metadata": {},
   "outputs": [],
   "source": [
    "evaluator.run(test_loader)\n",
    "metrics = evaluator.state.metrics\n",
    "test_accuracy = metrics['accuracy'] # YOUR CODE"
   ]
  },
  {
   "cell_type": "code",
   "execution_count": null,
   "metadata": {},
   "outputs": [],
   "source": [
    "print(\"Final results:\")\n",
    "print(\"  test accuracy:\\t\\t{:.2f} %\".format(\n",
    "    test_accuracy * 100))\n",
    "\n",
    "if test_accuracy * 100 > 40:\n",
    "    print(\"Achievement unlocked: 110lvl Warlock!\")\n",
    "elif test_accuracy * 100 > 35:\n",
    "    print(\"Achievement unlocked: 80lvl Warlock!\")\n",
    "elif test_accuracy * 100 > 30:Prvič moramo vedeti, da je zdravljenje v bolnišnici v vsakem primeru od otroške dobe do pozne starosti smiselno takrat, ko lahko v bolnišnici nudimo zdravljenje, ki ga bolnik doma ne more biti deležen, pa ga zaradi svoje bolezni seveda potrebuje, da ima t. i. indikacijo. Drugič moramo vedeti, da za bolezen covid-19 nimamo nekega uspešnega specifičnega zdravljenja, ki bi zmanjšalo bolezen, izboljšalo preživetje. In tega zdravljenja nimamo niti zunaj bolnišnice niti v bolnišnici.\n",
    "\n",
    "\n",
    "    print(\"Achievement unlocked: 70lvl Warlock!\")\n",
    "elif test_accuracy * 100 > 25:\n",
    "    print(\"Achievement unlocked: 60lvl Warlock!\")\n",
    "else:\n",
    "    print(\"We need more magic! Follow instructons below\")"
   ]
  },
  {
   "cell_type": "markdown",
   "metadata": {},
   "source": [
    "```\n",
    "\n",
    "```\n",
    "\n",
    "```\n",
    "\n",
    "```\n",
    "\n",
    "```\n",
    "\n",
    "```\n",
    "\n",
    "\n",
    "# Report\n",
    "\n",
    "All creative approaches are highly welcome, but at the very least it would be great to mention\n",
    "* the idea;\n",
    "* brief history of tweaks and improvements;\n",
    "* what is the final architecture and why?\n",
    "* what is the training method and, again, why?\n",
    "* Any regularizations and other techniques applied and their effects;\n",
    "\n",
    "\n",
    "There is no need to write strict mathematical proofs (unless you want to).\n",
    " * \"I tried this, this and this, and the second one turned out to be better. And i just didn't like the name of that one\" - OK, but can be better\n",
    " * \"I have analized these and these articles|sources|blog posts, tried that and that to adapt them to my problem and the conclusions are such and such\" - the ideal one\n",
    " * \"I took that code that demo without understanding it, but i'll never confess that and instead i'll make up some pseudoscientific explaination\" - __not_ok__"
   ]
  },
  {
   "cell_type": "markdown",
   "metadata": {},
   "source": [
    "### Hi, my name is `___ ___`, and here's my story\n",
    "\n",
    "A long time ago in a galaxy far far away, when it was still more than an hour before the deadline, i got an idea:\n",
    "\n",
    "##### I gonna build a neural network, that\n",
    "* brief text on what was\n",
    "* the original idea\n",
    "* and why it was so\n",
    "\n",
    "How could i be so naive?!\n",
    "\n",
    "##### One day, with no signs of warning,\n",
    "This thing has finally converged and\n",
    "* Some explaination about what were the results,\n",
    "* what worked and what didn't\n",
    "* most importantly - what next steps were taken, if any\n",
    "* and what were their respective outcomes\n",
    "\n",
    "##### Finally, after __  iterations, __ mugs of [tea/coffee]\n",
    "* what was the final architecture\n",
    "* as well as training method and tricks\n",
    "\n",
    "That, having wasted ____ [minutes, hours or days] of my life training, got\n",
    "\n",
    "* accuracy on training: __\n",
    "* accuracy on validation: __\n",
    "* accuracy on test: __\n",
    "\n",
    "\n",
    "[an optional afterword and mortal curses on assignment authors]"
   ]
  }
 ],
 "metadata": {
  "kernelspec": {
   "display_name": "Python 3",
   "language": "python",
   "name": "python3"
  },
  "language_info": {
   "codemirror_mode": {
    "name": "ipython",
    "version": 3
   },
   "file_extension": ".py",
   "mimetype": "text/x-python",
   "name": "python",
   "nbconvert_exporter": "python",
   "pygments_lexer": "ipython3",
   "version": "3.7.7"
  }
 },
 "nbformat": 4,
 "nbformat_minor": 4
}
